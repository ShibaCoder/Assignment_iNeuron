{
  "nbformat": 4,
  "nbformat_minor": 0,
  "metadata": {
    "colab": {
      "private_outputs": true,
      "provenance": []
    },
    "kernelspec": {
      "name": "python3",
      "display_name": "Python 3"
    },
    "language_info": {
      "name": "python"
    }
  },
  "cells": [
    {
      "cell_type": "code",
      "execution_count": null,
      "metadata": {
        "id": "y-9ZxFHMli-V"
      },
      "outputs": [],
      "source": []
    },
    {
      "cell_type": "code",
      "source": [],
      "metadata": {
        "id": "MfxXjZXrljpO"
      },
      "execution_count": null,
      "outputs": []
    },
    {
      "cell_type": "markdown",
      "source": [
        "-----------------------------------------------------------------------------\n",
        "Q1. What is an API? Give an example, where an API is used in real life.\n",
        "-----------------------------------------------------------------------------\n",
        "Application Programming Interface is a set of rules and specifications used to communicate between two applications. \n",
        "In simple terms, an API allows one program to interact with another program.\n",
        "\n",
        "Example:\n",
        "When we use a mobile app to check the weather, the app connects to the Internet and sends a request to a server. The server then retrieves the weather data and sends it back to the app, which displays the weather information on our phone. In this case, the app is using an API to communicate with the server.\n",
        "--------------------------------------------------------------------------------\n",
        "Q2. Give advantages and disadvantages of using API.\n",
        "--------------------------------------------------------------------------------\n",
        "Advantages:\n",
        "\n",
        "Increased efficiency: \n",
        "APIs allow developers to reuse code and functionality, which can save time and resources.\n",
        "Improved user experience: \n",
        "APIs can help improve the user experience by providing access to additional features and functionality.\n",
        "\n",
        "Disadvantages:\n",
        "\n",
        "Security risks: \n",
        "APIs can be a security risk if they are not properly secured. \n",
        "Programming knowledge required:\n",
        "To create an API, programming knowledge is necessary.\n",
        "Maintenance cost: \n",
        "The maintenance cost of an API can be high.\n",
        "Crashes: \n",
        "APIs can crash when testing them.\n",
        "--------------------------------------------------------------------------------\n",
        "Q3. What is a Web API? Differentiate between API and Web API.\n",
        "--------------------------------------------------------------------------------\n",
        "Web API is an API that can be accessed over the web using the HTTP protocol. It is an Open-Source framework for a web application or web server that communicates between clients and websites for data access. Web API implements protocol specification, it incorporates concepts like—Caching, URIs, Versioning, Headers, and various content formats.\n",
        "\n",
        "The key distinction between API and Web API is that web services are a type of API: All web services are APIs, but not all APIs are web services. \n",
        "--------------------------------------------------------------------------------\n",
        "Q4. Explain REST and SOAP Architecture. Mention shortcomings of SOAP.\n",
        "--------------------------------------------------------------------------------\n",
        "SOAP or Simple Object Access Protocol is a protocol, whereas REST is an architectural style. \n",
        "An API is designed to expose certain aspects of an application’s business logic on a server, and SOAP uses a service interface to do this while REST uses URL. \n",
        "\n",
        "While SOAP APIs are designed after the functions that the API exposes, REST APIs are designed after the data. \n",
        "\n",
        "REST is an architecture that’s more data-driven, while SOAP is a standardized protocol for transferring structured information that’s more function-driven.\n",
        "\n",
        "REST permits many different data formats, including plain text, HTML, XML, and JSON, which is a great fit for data and yields more browser compatibility; SOAP only uses XML.\n",
        "\n",
        "SOAP provides the following advantages when compared to REST:\n",
        "\n",
        "shortcomings of SOAP\n",
        "\n",
        "SOAP is complex and heavy.\n",
        "SOAP is slow because of its extensive processing requirements.\n",
        "SOAP only works with XML formats.\n",
        "SOAP is not as easy to implement as REST.\n",
        "--------------------------------------------------------------------------------\n",
        "Q5. Differentiate between REST and SOAP.\n",
        "--------------------------------------------------------------------------------\n",
        "RESTis an architectural style that is more data-driven, while SOAP is a protocol that is more function-driven. \n",
        "\n",
        "REST APIs are designed after the data, while SOAP APIs are designed after the functions that the API exposes. \n",
        "\n",
        "REST permits many different data formats, including plain text, HTML, XML, and JSON, which is a great fit for data and yields more browser compatibility; SOAP only uses XML. \n",
        "\n",
        "REST operates through a solitary, consistent interface to access named resources. It’s most commonly used when you’re exposing a public API over the Internet. SOAP, on the other hand, exposes components of application logic as services rather than data. \n",
        "\n",
        "SOAP is complex and heavy, slow because of its extensive processing requirements, only works with XML formats, and is not as easy to implement as REST.\n"
      ],
      "metadata": {
        "id": "ADeCW8q9lkHk"
      }
    },
    {
      "cell_type": "code",
      "source": [],
      "metadata": {
        "id": "bThCljnUlnLA"
      },
      "execution_count": null,
      "outputs": []
    }
  ]
}