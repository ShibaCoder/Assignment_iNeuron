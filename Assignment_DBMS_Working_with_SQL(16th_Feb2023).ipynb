{
  "nbformat": 4,
  "nbformat_minor": 0,
  "metadata": {
    "colab": {
      "private_outputs": true,
      "provenance": []
    },
    "kernelspec": {
      "name": "python3",
      "display_name": "Python 3"
    },
    "language_info": {
      "name": "python"
    }
  },
  "cells": [
    {
      "cell_type": "markdown",
      "source": [
        "------------------------------------------------------------------------------\n",
        "**Q1. What is a `database`? Differentiate between SQL and NoSQL databases.**\n",
        "------------------------------------------------------------------------------\n"
      ],
      "metadata": {
        "id": "f2Q-_1hBlV0L"
      }
    },
    {
      "cell_type": "markdown",
      "source": [
        "A database is a structured collection of data that is organized in a way that allows for efficient storage, retrieval, and management of data.\n",
        "\n",
        "SQL (Structured Query Language) and NoSQL (Not only SQL) are two different types of database management systems. SQL databases are relational databases that use a table-based data structure to store information. They are structured and use pre-defined schema to define the relationships between tables. SQL databases are commonly used in traditional enterprise applications.\n",
        "\n",
        "On the other hand, NoSQL databases do not use tables to store information. They are non-relational and do not require a pre-defined schema. NoSQL databases are designed to be more flexible and scalable than SQL databases, and they can handle large amounts of unstructured and semi-structured data. They are often used in modern web applications and are popular for their ability to scale horizontally."
      ],
      "metadata": {
        "id": "d7KfuSLQlV62"
      }
    },
    {
      "cell_type": "markdown",
      "source": [
        "------------------------------------------------------------------------------\n",
        "**Q2. What is DDL? Explain why CREATE, DROP, ALTER, and TRUNCATE are used with an example.**\n",
        "------------------------------------------------------------------------------\n",
        "\n"
      ],
      "metadata": {
        "id": "v-ybSlLDlV-b"
      }
    },
    {
      "cell_type": "markdown",
      "source": [
        "DDL stands for Data Definition Language, which is a set of SQL commands used to define, modify, and manipulate the structure of database objects such as tables, indexes, views, etc.\n",
        "\n",
        "The following are the most commonly used DDL commands in SQL:\n",
        "\n",
        "CREATE: It is used to create a new database object such as a table, index, view, or procedure.\n",
        "\n",
        "DROP: It is used to delete an existing database object such as a table, index, view, or procedure.\n",
        "\n",
        "ALTER: It is used to modify the structure of an existing database object such as adding or deleting columns, changing the data type of a column, or renaming a table.\n",
        "\n",
        "TRUNCATE: It is used to delete all the data from a table, but it does not delete the table structure."
      ],
      "metadata": {
        "id": "wKqDTIWxlWBx"
      }
    },
    {
      "cell_type": "markdown",
      "source": [
        "------------------------------------------------------------------------------\n",
        "**Q3. What is DML? Explain INSERT, UPDATE, and DELETE with an example.**\n",
        "------------------------------------------------------------------------------\n"
      ],
      "metadata": {
        "id": "l5Nxwdm2lWFB"
      }
    },
    {
      "cell_type": "markdown",
      "source": [
        "DML stands for Data Manipulation Language, which is a subset of SQL (Structured Query Language) used to manipulate data in relational databases. DML commands are used to insert, update, and delete records in a database.\n",
        "\n",
        "INSERT: The INSERT command is used to insert new records into a table. \n",
        "\n",
        "UPDATE: The UPDATE command is used to update existing records in a table. \n",
        "\n",
        "DELETE: The DELETE command is used to delete existing records from a table. \n",
        "\n"
      ],
      "metadata": {
        "id": "EFxoD6cLlWIa"
      }
    },
    {
      "cell_type": "markdown",
      "source": [
        "------------------------------------------------------------------------------\n",
        "**Q4. What is DQL? Explain SELECT with an example.**\n",
        "------------------------------------------------------------------------------\n"
      ],
      "metadata": {
        "id": "AGsVGcLKmt5o"
      }
    },
    {
      "cell_type": "markdown",
      "source": [
        "DQL stands for Data Query Language, which is a subset of SQL (Structured Query Language) used to query and retrieve data from a database.\n",
        "\n",
        "SELECT is a statement used in DQL to retrieve data from one or more tables in a database. The basic syntax of the SELECT statement is as follows:\n",
        "SELECT name, salary FROM employees;"
      ],
      "metadata": {
        "id": "GwizoKkpmxAN"
      }
    },
    {
      "cell_type": "markdown",
      "source": [
        "------------------------------------------------------------------------------\n",
        "**Q5. Explain Primary Key and Foreign Key. **\n",
        "------------------------------------------------------------------------------\n"
      ],
      "metadata": {
        "id": "xemUYqnAmuDy"
      }
    },
    {
      "cell_type": "markdown",
      "source": [
        "A primary key is a column or set of columns in a database table that uniquely identifies each row in the table. It is a critical component of a database because it allows for efficient searching, sorting, and updating of data in the table. Primary keys must have unique values, and they cannot contain null values. A primary key is typically created when a table is first created, and it is used to enforce data integrity constraints, such as ensuring that there are no duplicate rows in the table.\n",
        "\n",
        "A foreign key is a column or set of columns in a database table that refers to the primary key of another table. It is used to establish a relationship between two tables, where the foreign key in one table references the primary key in another table. This relationship is often referred to as a parent-child relationship or a one-to-many relationship. "
      ],
      "metadata": {
        "id": "38cja1qAmwPA"
      }
    },
    {
      "cell_type": "markdown",
      "source": [
        "------------------------------------------------------------------------------\n",
        "**Q6. Write a python code to connect MySQL to python. Explain the cursor() and execute() method.**\n",
        "------------------------------------------------------------------------------\n"
      ],
      "metadata": {
        "id": "W-UXo77pmuKz"
      }
    },
    {
      "cell_type": "markdown",
      "source": [],
      "metadata": {
        "id": "yxcALyKUmtgP"
      }
    },
    {
      "cell_type": "code",
      "source": [
        "import pymysql\n",
        "\n",
        "# Establish connection to MySQL database\n",
        "connection = pymysql.connect(\n",
        "    host=\"localhost\",\n",
        "    user=\"yourusername\",\n",
        "    password=\"yourpassword\",\n",
        "    database=\"yourdatabase\"\n",
        ")\n",
        "\n",
        "# Create a cursor object\n",
        "cursor = connection.cursor()\n",
        "\n",
        "# Execute a SQL query\n",
        "cursor.execute(\"SELECT * FROM yourtable\")\n",
        "\n",
        "# Fetch data from the cursor object\n",
        "data = cursor.fetchall()\n",
        "\n",
        "# Print the data\n",
        "for row in data:\n",
        "    print(row)\n",
        "\n",
        "# Close the cursor and connection\n",
        "cursor.close()\n",
        "connection.close()\n",
        "\n",
        "\n",
        "\n",
        "\"\"\"The cursor() method creates a cursor object, which is used to execute SQL queries and fetch data from the database. The execute() method is used to execute SQL queries on the cursor object. The SQL query is passed as an argument to this method.\"\"\""
      ],
      "metadata": {
        "id": "8ia3ujPupUJy"
      },
      "execution_count": null,
      "outputs": []
    },
    {
      "cell_type": "markdown",
      "source": [
        "------------------------------------------------------------------------------\n",
        "**Q7. Give the order of execution of SQL clauses in an SQL query.**\n",
        "------------------------------------------------------------------------------\n"
      ],
      "metadata": {
        "id": "Rd7IdJiRnLLk"
      }
    },
    {
      "cell_type": "markdown",
      "source": [
        "\n",
        "FROM: This clause specifies the table(s) from which the data is being retrieved.\n",
        "\n",
        "WHERE: This clause is used to filter the data based on certain conditions.\n",
        "\n",
        "GROUP BY: This clause is used to group the data based on one or more columns.\n",
        "\n",
        "HAVING: This clause is used to filter the grouped data based on certain conditions.\n",
        "\n",
        "SELECT: This clause specifies the columns that are being selected from the table(s).\n",
        "\n",
        "DISTINCT: This clause is used to remove duplicate rows from the result set.\n",
        "\n",
        "ORDER BY: This clause is used to sort the data based on one or more columns.\n",
        "\n",
        "LIMIT: This clause is used to limit the number of rows returned by the query.\n"
      ],
      "metadata": {
        "id": "Lt6Gmd8fnSAw"
      }
    }
  ]
}