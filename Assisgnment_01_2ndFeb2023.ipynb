{
  "nbformat": 4,
  "nbformat_minor": 0,
  "metadata": {
    "colab": {
      "private_outputs": true,
      "provenance": []
    },
    "kernelspec": {
      "name": "python3",
      "display_name": "Python 3"
    },
    "language_info": {
      "name": "python"
    }
  },
  "cells": [
    {
      "cell_type": "markdown",
      "source": [
        "Q1. Explain with an example each when to use a for loop and a while loop."
      ],
      "metadata": {
        "id": "jQdadCn1L258"
      }
    },
    {
      "cell_type": "code",
      "source": [
        "\"For loop with example\"\n",
        "for i in range(1,10):\n",
        "    print(i)"
      ],
      "metadata": {
        "id": "NuLgYe8IL03y"
      },
      "execution_count": null,
      "outputs": []
    },
    {
      "cell_type": "code",
      "source": [
        "\"While loop with example\"\n",
        "i =0\n",
        "while(i<10):\n",
        "    print(i)\n",
        "    i =i+1"
      ],
      "metadata": {
        "id": "UroxFXSdgo7d"
      },
      "execution_count": null,
      "outputs": []
    },
    {
      "cell_type": "markdown",
      "source": [
        "Q2. Write a python program to print the sum and product of the first 10 natural numbers using for and while loop."
      ],
      "metadata": {
        "id": "bbfszROqL5-_"
      }
    },
    {
      "cell_type": "code",
      "source": [
        "sum=0\n",
        "product =1\n",
        "for i in range(1,11):\n",
        "    sum = sum+i\n",
        "    product = product*i\n",
        "\n",
        "print(\"sum of 10 number are:\",sum)\n",
        "print(\"product of 10 number are:\",product)"
      ],
      "metadata": {
        "id": "zbmFPAw7LmYJ"
      },
      "execution_count": null,
      "outputs": []
    },
    {
      "cell_type": "markdown",
      "source": [
        "Q3. Create a python program to compute the electricity bill for a household.\n",
        "The per-unit charges in rupees are as follows: For the first 100 units, the user will be charged Rs. 4.5 per\n",
        "unit, for the next 100 units, the user will be charged Rs. 6 per unit, and for the next 100 units, the user will\n",
        "be charged Rs. 10 per unit, After 300 units and above the user will be charged Rs. 20 per unit.\n",
        "You are required to take the units of electricity consumed in a month from the user as input.\n",
        "Your program must pass this test case: when the unit of electricity consumed by the user in a month is\n",
        "310, the total electricity bill should be 2250."
      ],
      "metadata": {
        "id": "fqeQVnLmL-8x"
      }
    },
    {
      "cell_type": "code",
      "source": [
        "units = int(input('Enter Units: '))\n",
        "bill = 0\n",
        "if units <= 100:\n",
        "    bill += 4.5*units\n",
        "    units -= 100\n",
        "elif units > 100 and units <= 200:\n",
        "    bill += 450\n",
        "    units -= 100\n",
        "    bill += 6*units\n",
        "elif units > 200 and units <= 300:\n",
        "    bill += 450+600\n",
        "    units -= 200\n",
        "    bill += 10*units\n",
        "elif units > 300:\n",
        "    bill += 450+600+1000\n",
        "    units -= 300\n",
        "    bill += 20*units\n",
        "print(f'Total Electricity Bill Rs.{bill}')"
      ],
      "metadata": {
        "id": "wceZQlwOLmbI"
      },
      "execution_count": null,
      "outputs": []
    },
    {
      "cell_type": "markdown",
      "source": [
        "Q4. Create a list of numbers from 1 to 100. Use for loop and while loop to calculate the cube of each\n",
        "number and if the cube of that number is divisible by 4 or 5 then append that number in a list and print\n",
        "that list."
      ],
      "metadata": {
        "id": "Ei2Nq41_MCTe"
      }
    },
    {
      "cell_type": "code",
      "source": [
        "#for loop\n",
        "l = list(range(1,101))\n",
        "\n",
        "newlist =[]\n",
        "\n",
        "for i in l:\n",
        "    c= i**3\n",
        "    if c %4 ==0 or c%5==0:\n",
        "        newlist.append(i)\n",
        "print(newlist)"
      ],
      "metadata": {
        "id": "FFN-BLu6Lsdb"
      },
      "execution_count": null,
      "outputs": []
    },
    {
      "cell_type": "markdown",
      "source": [
        "Q5. Write a program to filter count vowels in the below-given string.\n",
        "         string = \"I want to become a data scientist\""
      ],
      "metadata": {
        "id": "aYgFbZoYMQLP"
      }
    },
    {
      "cell_type": "code",
      "source": [
        "sts = str(input(\"Enter the input\"))\n",
        "vowels = 'aeiouAEIOU'\n",
        "count=0\n",
        "for char in sts:\n",
        "    if char in vowels:\n",
        "       count+=1\n",
        "print(count)"
      ],
      "metadata": {
        "id": "OMfY-akQLmhS"
      },
      "execution_count": null,
      "outputs": []
    }
  ]
}